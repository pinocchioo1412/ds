{
 "cells": [
  {
   "cell_type": "code",
   "execution_count": 4,
   "metadata": {},
   "outputs": [
    {
     "name": "stdout",
     "output_type": "stream",
     "text": [
      "       Date        Close         Open         High          Low    Volume\n",
      "0     40182   37330.2064   36651.4753   37330.2064   35746.5006    520721\n",
      "1     40183   37330.2064   38687.6684   38687.6684   37330.2064    442089\n",
      "2     40184   36651.4753   37330.2064   37782.6937   35972.7443    209663\n",
      "3     40185   36425.2317   36651.4753   36877.7190   36198.9880    227011\n",
      "4     40186   35294.0133   37103.9627   37103.9627   35294.0133    357048\n",
      "...     ...          ...          ...          ...          ...       ...\n",
      "3600  45460  128800.0000  131000.0000  131400.0000  128500.0000   4867600\n",
      "3601  45461  128000.0000  128800.0000  129700.0000  128000.0000   6680000\n",
      "3602  45462  131500.0000  128000.0000  132800.0000  126600.0000   9669200\n",
      "3603  45463  133300.0000  133000.0000  135700.0000  131800.0000  10465700\n",
      "3604  45464  136100.0000  133900.0000  136100.0000  133300.0000   7653300\n",
      "\n",
      "[3605 rows x 6 columns]\n"
     ]
    }
   ],
   "source": [
    "import pandas as pd\n",
    "df = pd.read_excel(\"data/FPT_DATA.xlsx\")\n",
    "print(df)"
   ]
  },
  {
   "cell_type": "code",
   "execution_count": 5,
   "metadata": {},
   "outputs": [
    {
     "name": "stdout",
     "output_type": "stream",
     "text": [
      "      FPT       Date        Close         Open         High          Low  \\\n",
      "0     FPT 2010-01-04   37330.2064   36651.4753   37330.2064   35746.5006   \n",
      "1     FPT 2010-01-05   37330.2064   38687.6684   38687.6684   37330.2064   \n",
      "2     FPT 2010-01-06   36651.4753   37330.2064   37782.6937   35972.7443   \n",
      "3     FPT 2010-01-07   36425.2317   36651.4753   36877.7190   36198.9880   \n",
      "4     FPT 2010-01-08   35294.0133   37103.9627   37103.9627   35294.0133   \n",
      "...   ...        ...          ...          ...          ...          ...   \n",
      "3600  FPT 2024-06-17  128800.0000  131000.0000  131400.0000  128500.0000   \n",
      "3601  FPT 2024-06-18  128000.0000  128800.0000  129700.0000  128000.0000   \n",
      "3602  FPT 2024-06-19  131500.0000  128000.0000  132800.0000  126600.0000   \n",
      "3603  FPT 2024-06-20  133300.0000  133000.0000  135700.0000  131800.0000   \n",
      "3604  FPT 2024-06-21  136100.0000  133900.0000  136100.0000  133300.0000   \n",
      "\n",
      "        Volume  \n",
      "0       520721  \n",
      "1       442089  \n",
      "2       209663  \n",
      "3       227011  \n",
      "4       357048  \n",
      "...        ...  \n",
      "3600   4867600  \n",
      "3601   6680000  \n",
      "3602   9669200  \n",
      "3603  10465700  \n",
      "3604   7653300  \n",
      "\n",
      "[3605 rows x 7 columns]\n"
     ]
    }
   ],
   "source": [
    "df['Date'] = pd.to_datetime(df['Date'],origin='1899-12-30',unit = 'D')\n",
    "df.insert(0,'FPT','FPT')\n",
    "print(df)"
   ]
  },
  {
   "cell_type": "markdown",
   "metadata": {},
   "source": [
    "Tính các chỉ số "
   ]
  },
  {
   "cell_type": "code",
   "execution_count": null,
   "metadata": {},
   "outputs": [],
   "source": [
    "def get_technical_indicators(dataset):\n",
    "    # Create 7 and 21 days Moving Average\n",
    "    dataset['ma7'] = dataset['Close'].rolling(window=7).mean()\n",
    "    dataset['ma21'] = dataset['Close'].rolling(window=21).mean()\n",
    "\n",
    "    # Create MACD\n",
    "    dataset['26ema'] = dataset['Close'].ewm(span=26).mean()\n",
    "    dataset['12ema'] = dataset['Close'].ewm(span=12).mean()\n",
    "    dataset['MACD'] = (dataset['12ema'] - dataset['26ema'])\n",
    "\n",
    "    # Create Bollinger Bands\n",
    "    dataset['20sd'] = dataset['Close'].rolling(window=20).std()\n",
    "    dataset['upper_band'] = dataset['ma21'] + (dataset['20sd'] * 2)\n",
    "    dataset['lower_band'] = dataset['ma21'] - (dataset['20sd'] * 2)\n",
    "\n",
    "    # Create Exponential moving average\n",
    "    dataset['ema'] = dataset['Close'].ewm(com=0.5).mean()\n",
    "\n",
    "    # Create Momentum\n",
    "    dataset['momentum'] = dataset['Close'].diff(4)\n",
    "    dataset['log_momentum'] = dataset['momentum'].apply(lambda x: math.log(x) if x > 0 else 0)\n",
    "\n",
    "    return dataset"
   ]
  }
 ],
 "metadata": {
  "kernelspec": {
   "display_name": "Python 3",
   "language": "python",
   "name": "python3"
  },
  "language_info": {
   "codemirror_mode": {
    "name": "ipython",
    "version": 3
   },
   "file_extension": ".py",
   "mimetype": "text/x-python",
   "name": "python",
   "nbconvert_exporter": "python",
   "pygments_lexer": "ipython3",
   "version": "3.12.1"
  }
 },
 "nbformat": 4,
 "nbformat_minor": 2
}
